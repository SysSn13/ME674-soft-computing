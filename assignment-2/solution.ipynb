{
 "cells": [
  {
   "cell_type": "markdown",
   "metadata": {},
   "source": [
    "# Assignment - 2 Solution\n",
    "##### Author : Sudesh Chaudhary"
   ]
  },
  {
   "cell_type": "code",
   "execution_count": 1,
   "metadata": {},
   "outputs": [],
   "source": [
    "import pandas as pd\n",
    "import numpy as np"
   ]
  },
  {
   "cell_type": "code",
   "execution_count": 2,
   "metadata": {},
   "outputs": [],
   "source": [
    "def solve(I,v,w,t):\n",
    "    hi = np.dot(I,v)\n",
    "    print(\"hidden layer activaton\")\n",
    "    print(hi)\n",
    "    # log-sigmoid transfer function\n",
    "    oh1 = 1.0/(1.0+np.exp(-hi))\n",
    "    print(\"hidden layer output\")\n",
    "    print(oh1)\n",
    "    \n",
    "    io1 = np.dot(oh1,w)\n",
    "    print(\"activation for output layer\")\n",
    "    print(io1)\n",
    "    # tan-sigmoid transfer function\n",
    "    o1 = (np.exp(io1)-np.exp(-io1))/(np.exp(io1)+np.exp(-io1))\n",
    "    print(\"output\")\n",
    "    print(o1)\n",
    "    \n",
    "    delta_w = np.zeros((3,2))\n",
    "    for j in range(3):\n",
    "        for k in range(2):\n",
    "            sum =(t[k]-o1[k])*(1-o1[k])*(1+o1[k])*(oh1[j])\n",
    "            delta_w[j][k]=sum\n",
    "    print(\"delta w \")\n",
    "    print(delta_w)\n",
    "    delta_v = np.zeros((2,3))\n",
    "    \n",
    "    for i in range(2):\n",
    "        for j in range(3):\n",
    "            sum=0\n",
    "            for k in range(2):\n",
    "                x = (t[k]-o1[k])*(1-o1[k])*(1+o1[k])\n",
    "                x*= w[j][k]\n",
    "                x*=oh1[j]*(1-oh1[j])\n",
    "                x*=I[i]\n",
    "                sum+=x\n",
    "            delta_v[i][j]=sum\n",
    "    print(\"delta v\")\n",
    "    print(delta_v)\n",
    "    return [delta_w,delta_v]"
   ]
  },
  {
   "cell_type": "code",
   "execution_count": 3,
   "metadata": {},
   "outputs": [],
   "source": [
    "# inputs\n",
    "i1 = np.array([0.6,0.4])\n",
    "i2 = np.array([0.3,0.7])"
   ]
  },
  {
   "cell_type": "code",
   "execution_count": 4,
   "metadata": {
    "scrolled": true
   },
   "outputs": [],
   "source": [
    "# weight matrix between input and hidden layer \n",
    "v = np.array([[0.2,0.4,0.3],[0.1,0.6,0.5]])"
   ]
  },
  {
   "cell_type": "code",
   "execution_count": 5,
   "metadata": {},
   "outputs": [],
   "source": [
    "# weight matrix between hidden and output layer\n",
    "w = np.array([[0.1,0.2],[0.2,0.3],[-0.1,0.4]])"
   ]
  },
  {
   "cell_type": "code",
   "execution_count": 6,
   "metadata": {},
   "outputs": [],
   "source": [
    "# outputs\n",
    "t1 = np.array([0.2,0.4])\n",
    "t2 = np.array([0.5,0.1])"
   ]
  },
  {
   "cell_type": "code",
   "execution_count": 7,
   "metadata": {
    "scrolled": true
   },
   "outputs": [
    {
     "name": "stdout",
     "output_type": "stream",
     "text": [
      "hidden layer activaton\n",
      "[0.16 0.48 0.38]\n",
      "hidden layer output\n",
      "[0.53991488 0.61774787 0.5938731 ]\n",
      "activation for output layer\n",
      "[0.11815375 0.53085658]\n",
      "output\n",
      "[0.11760699 0.48603559]\n",
      "delta w \n",
      "[[ 0.04386992 -0.03547854]\n",
      " [ 0.05019412 -0.04059305]\n",
      " [ 0.04825421 -0.03902421]]\n",
      "delta v\n",
      "[[-0.00074774 -0.0004906  -0.00497955]\n",
      " [-0.0004985  -0.00032707 -0.0033197 ]]\n",
      "hidden layer activaton\n",
      "[0.13 0.54 0.44]\n",
      "hidden layer output\n",
      "[0.53245431 0.63181242 0.60825903]\n",
      "activation for output layer\n",
      "[0.11878201 0.5393382 ]\n",
      "output\n",
      "[0.11822651 0.49248684]\n",
      "delta w \n",
      "[[ 0.20043564 -0.1582943 ]\n",
      " [ 0.23783773 -0.18783265]\n",
      " [ 0.22897136 -0.18083042]]\n",
      "delta v\n",
      "[[-0.0016292  -0.00097005 -0.01119157]\n",
      " [-0.00380148 -0.00226346 -0.02611365]]\n"
     ]
    }
   ],
   "source": [
    "# Iteration 1\n",
    "output1 = solve(i1,v,w,t1) # [delta w, delta v]\n",
    "output2 = solve(i2,v,w,t2)\n",
    "# output1\n",
    "# print(output1[0],output2[0])"
   ]
  },
  {
   "cell_type": "code",
   "execution_count": 8,
   "metadata": {},
   "outputs": [
    {
     "data": {
      "text/plain": [
       "array([[ 0.03664583, -0.02906592],\n",
       "       [ 0.04320478, -0.03426385],\n",
       "       [ 0.04158384, -0.03297819]])"
      ]
     },
     "execution_count": 8,
     "metadata": {},
     "output_type": "execute_result"
    }
   ],
   "source": [
    "# calculating delta_w\n",
    "delta_w = 0.15*(output1[0]+output2[0])\n",
    "delta_w"
   ]
  },
  {
   "cell_type": "code",
   "execution_count": 9,
   "metadata": {},
   "outputs": [
    {
     "data": {
      "text/plain": [
       "array([[-0.00017827, -0.00010955, -0.00121283],\n",
       "       [-0.0003225 , -0.00019429, -0.0022075 ]])"
      ]
     },
     "execution_count": 9,
     "metadata": {},
     "output_type": "execute_result"
    }
   ],
   "source": [
    "# calculating delta_v\n",
    "delta_v = (0.3*(output1[1]+output2[1]))/4\n",
    "delta_v"
   ]
  },
  {
   "cell_type": "code",
   "execution_count": 10,
   "metadata": {},
   "outputs": [
    {
     "name": "stdout",
     "output_type": "stream",
     "text": [
      "[[ 0.13664583  0.17093408]\n",
      " [ 0.24320478  0.26573615]\n",
      " [-0.05841616  0.36702181]]\n",
      "[[0.19982173 0.39989045 0.29878717]\n",
      " [0.0996775  0.59980571 0.4977925 ]]\n"
     ]
    }
   ],
   "source": [
    "# updating weight matrices\n",
    "w = w+delta_w\n",
    "v = v+delta_v\n",
    "print(w)\n",
    "print(v)"
   ]
  },
  {
   "cell_type": "code",
   "execution_count": 11,
   "metadata": {
    "scrolled": true
   },
   "outputs": [
    {
     "name": "stdout",
     "output_type": "stream",
     "text": [
      "hidden layer activaton\n",
      "[0.15976404 0.47985655 0.3783893 ]\n",
      "hidden layer output\n",
      "[0.53985627 0.617714   0.59348456]\n",
      "activation for output layer\n",
      "[0.18933101 0.47425055]\n",
      "output\n",
      "[0.18710072 0.44162727]\n",
      "delta w \n",
      "[[ 0.00671998 -0.01808978]\n",
      " [ 0.00768913 -0.02069868]\n",
      " [ 0.00738753 -0.01988678]]\n",
      "delta v\n",
      "[[-0.00060018 -0.0008327  -0.00188552]\n",
      " [-0.00040012 -0.00055513 -0.00125702]]\n",
      "hidden layer activaton\n",
      "[0.12972077 0.53983113 0.4380909 ]\n",
      "hidden layer output\n",
      "[0.53238479 0.63177313 0.60780404]\n",
      "activation for output layer\n",
      "[0.19089283 0.48196499]\n",
      "output\n",
      "[0.18860742 0.44781593]\n",
      "delta w \n",
      "[[ 0.1598834  -0.1480377 ]\n",
      " [ 0.18973126 -0.17567414]\n",
      " [ 0.18253297 -0.16900917]]\n",
      "delta v\n",
      "[[-4.85004015e-04 -5.95888554e-05 -8.55296178e-03]\n",
      " [-1.13167604e-03 -1.39040663e-04 -1.99569108e-02]]\n"
     ]
    }
   ],
   "source": [
    "# Iteration 2\n",
    "output21 = solve(i1,v,w,t1) # [delta w, delta v]\n",
    "output22 = solve(i2,v,w,t2)"
   ]
  },
  {
   "cell_type": "code",
   "execution_count": 12,
   "metadata": {},
   "outputs": [
    {
     "data": {
      "text/plain": [
       "array([[ 0.043975  , -0.03487911],\n",
       "       [ 0.05184573, -0.04111663],\n",
       "       [ 0.0499006 , -0.03957383]])"
      ]
     },
     "execution_count": 12,
     "metadata": {},
     "output_type": "execute_result"
    }
   ],
   "source": [
    "delta_2w = 0.15*(output1[0]+output2[0]) + 0.2*(delta_w) # momentum term = alpha x delta_w_prev\n",
    "delta_2w"
   ]
  },
  {
   "cell_type": "code",
   "execution_count": 13,
   "metadata": {},
   "outputs": [
    {
     "data": {
      "text/plain": [
       "array([[-0.00021393, -0.00013146, -0.0014554 ],\n",
       "       [-0.000387  , -0.00023315, -0.002649  ]])"
      ]
     },
     "execution_count": 13,
     "metadata": {},
     "output_type": "execute_result"
    }
   ],
   "source": [
    "delta_2v = (0.3*(output1[1]+output2[1]))/4 +0.2*(delta_v)\n",
    "delta_2v"
   ]
  },
  {
   "cell_type": "code",
   "execution_count": 14,
   "metadata": {
    "scrolled": true
   },
   "outputs": [
    {
     "data": {
      "text/plain": [
       "array([[ 0.18062083,  0.13605497],\n",
       "       [ 0.29505051,  0.22461952],\n",
       "       [-0.00851556,  0.32744797]])"
      ]
     },
     "execution_count": 14,
     "metadata": {},
     "output_type": "execute_result"
    }
   ],
   "source": [
    "w = w+delta_2w\n",
    "w"
   ]
  },
  {
   "cell_type": "code",
   "execution_count": 15,
   "metadata": {},
   "outputs": [
    {
     "data": {
      "text/plain": [
       "array([[0.1996078 , 0.39975899, 0.29733177],\n",
       "       [0.0992905 , 0.59957256, 0.4951435 ]])"
      ]
     },
     "execution_count": 15,
     "metadata": {},
     "output_type": "execute_result"
    }
   ],
   "source": [
    "v = v+delta_2v\n",
    "v"
   ]
  }
 ],
 "metadata": {
  "kernelspec": {
   "display_name": "Python 3",
   "language": "python",
   "name": "python3"
  },
  "language_info": {
   "codemirror_mode": {
    "name": "ipython",
    "version": 3
   },
   "file_extension": ".py",
   "mimetype": "text/x-python",
   "name": "python",
   "nbconvert_exporter": "python",
   "pygments_lexer": "ipython3",
   "version": "3.8.5"
  }
 },
 "nbformat": 4,
 "nbformat_minor": 4
}
